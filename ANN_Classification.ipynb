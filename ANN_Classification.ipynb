{
  "nbformat": 4,
  "nbformat_minor": 0,
  "metadata": {
    "colab": {
      "name": "ANN_Classification.ipynb",
      "provenance": []
    },
    "kernelspec": {
      "name": "python3",
      "display_name": "Python 3"
    }
  },
  "cells": [
    {
      "cell_type": "code",
      "metadata": {
        "id": "RTvPKDgeGhDd",
        "colab_type": "code",
        "colab": {
          "resources": {
            "http://localhost:8080/nbextensions/google.colab/files.js": {
              "data": "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",
              "ok": true,
              "headers": [
                [
                  "content-type",
                  "application/javascript"
                ]
              ],
              "status": 200,
              "status_text": ""
            }
          },
          "base_uri": "https://localhost:8080/",
          "height": 91
        },
        "outputId": "e92b354a-3870-4cec-82a9-fb8907761871"
      },
      "source": [
        "from google.colab import files\n",
        "\n",
        "uploaded = files.upload()\n",
        "\n",
        "for fn in uploaded.keys():\n",
        "  print('User uploaded file \"{name}\" with length {length} bytes'.format(\n",
        "      name=fn, length=len(uploaded[fn])))"
      ],
      "execution_count": null,
      "outputs": [
        {
          "output_type": "display_data",
          "data": {
            "text/html": [
              "\n",
              "     <input type=\"file\" id=\"files-6250234e-aff7-4f62-a36b-912af341e3ed\" name=\"files[]\" multiple disabled\n",
              "        style=\"border:none\" />\n",
              "     <output id=\"result-6250234e-aff7-4f62-a36b-912af341e3ed\">\n",
              "      Upload widget is only available when the cell has been executed in the\n",
              "      current browser session. Please rerun this cell to enable.\n",
              "      </output>\n",
              "      <script src=\"/nbextensions/google.colab/files.js\"></script> "
            ],
            "text/plain": [
              "<IPython.core.display.HTML object>"
            ]
          },
          "metadata": {
            "tags": []
          }
        },
        {
          "output_type": "stream",
          "text": [
            "Saving datasets_180_408_data.csv to datasets_180_408_data (1).csv\n",
            "User uploaded file \"datasets_180_408_data.csv\" with length 125204 bytes\n"
          ],
          "name": "stdout"
        }
      ]
    },
    {
      "cell_type": "code",
      "metadata": {
        "id": "zTByKVK_IHJE",
        "colab_type": "code",
        "colab": {
          "base_uri": "https://localhost:8080/",
          "height": 272
        },
        "outputId": "d528442a-385e-4fbf-f22a-89f40fac4c4a"
      },
      "source": [
        "import pandas as pd\n",
        "import io\n",
        "data = pd.read_csv('datasets_180_408_data.csv')\n",
        "data.head"
      ],
      "execution_count": null,
      "outputs": [
        {
          "output_type": "execute_result",
          "data": {
            "text/plain": [
              "<bound method NDFrame.head of            id diagnosis  ...  fractal_dimension_worst  Unnamed: 32\n",
              "0      842302         M  ...                  0.11890          NaN\n",
              "1      842517         M  ...                  0.08902          NaN\n",
              "2    84300903         M  ...                  0.08758          NaN\n",
              "3    84348301         M  ...                  0.17300          NaN\n",
              "4    84358402         M  ...                  0.07678          NaN\n",
              "..        ...       ...  ...                      ...          ...\n",
              "564    926424         M  ...                  0.07115          NaN\n",
              "565    926682         M  ...                  0.06637          NaN\n",
              "566    926954         M  ...                  0.07820          NaN\n",
              "567    927241         M  ...                  0.12400          NaN\n",
              "568     92751         B  ...                  0.07039          NaN\n",
              "\n",
              "[569 rows x 33 columns]>"
            ]
          },
          "metadata": {
            "tags": []
          },
          "execution_count": 75
        }
      ]
    },
    {
      "cell_type": "code",
      "metadata": {
        "id": "8weQexM7Is5e",
        "colab_type": "code",
        "colab": {
          "base_uri": "https://localhost:8080/",
          "height": 315
        },
        "outputId": "b6af39b3-c67b-4fc8-d6ec-777931b367a2"
      },
      "source": [
        "import seaborn as sns\n",
        "ax = sns.countplot(data['diagnosis'],label = 'count')\n",
        "B,M = data['diagnosis'].value_counts()\n",
        "print('Benign',B)\n",
        "print('Malignanat',M)"
      ],
      "execution_count": null,
      "outputs": [
        {
          "output_type": "stream",
          "text": [
            "Benign 357\n",
            "Malignanat 212\n"
          ],
          "name": "stdout"
        },
        {
          "output_type": "display_data",
          "data": {
            "image/png": "[encoded data removed]",
            "text/plain": [
              "<Figure size 432x288 with 1 Axes>"
            ]
          },
          "metadata": {
            "tags": [],
            "needs_background": "light"
          }
        }
      ]
    },
    {
      "cell_type": "code",
      "metadata": {
        "id": "56d1N868Iwqz",
        "colab_type": "code",
        "colab": {}
      },
      "source": [
        "import pandas as pd\n",
        "import numpy as np\n",
        "import matplotlib.pyplot as plt\n",
        "\n",
        "# Deleting NaN column\n",
        "del data['Unnamed: 32']"
      ],
      "execution_count": null,
      "outputs": []
    },
    {
      "cell_type": "code",
      "metadata": {
        "id": "ysUWC7asKSKz",
        "colab_type": "code",
        "colab": {}
      },
      "source": [
        "X = data.iloc[:,2:].values\n",
        "y = data.iloc[:,1].values\n",
        "\n",
        "# Encoding categorical data\n",
        "from sklearn.preprocessing import LabelEncoder\n",
        "labelencoder_X_1= LabelEncoder()\n",
        "y = labelencoder_X_1.fit_transform(y)\n",
        "\n",
        "\n"
      ],
      "execution_count": null,
      "outputs": []
    },
    {
      "cell_type": "code",
      "metadata": {
        "id": "nQcfRylJLz5T",
        "colab_type": "code",
        "colab": {}
      },
      "source": [
        "#Splittting the dataset into the training set and test set\n",
        "\n",
        "from sklearn.model_selection import train_test_split\n",
        "X_train,X_test,y_train,y_test = train_test_split(X,y,test_size = 0.2,random_state = 0)"
      ],
      "execution_count": null,
      "outputs": []
    },
    {
      "cell_type": "code",
      "metadata": {
        "id": "bxDENzyBMdNx",
        "colab_type": "code",
        "colab": {}
      },
      "source": [
        "#Feature Scaling\n",
        "\n",
        "from sklearn.preprocessing import StandardScaler\n",
        "sc = StandardScaler()\n",
        "X_train = sc.fit_transform(X_train)\n",
        "X_test = sc.transform(X_test)"
      ],
      "execution_count": null,
      "outputs": []
    },
    {
      "cell_type": "code",
      "metadata": {
        "id": "Dty-asLbM5eZ",
        "colab_type": "code",
        "colab": {
          "base_uri": "https://localhost:8080/",
          "height": 254
        },
        "outputId": "85f0c33b-827d-4eae-d418-333688ace5b8"
      },
      "source": [
        "X_train"
      ],
      "execution_count": null,
      "outputs": [
        {
          "output_type": "execute_result",
          "data": {
            "text/plain": [
              "array([[-1.15036482, -0.39064196, -1.12855021, ..., -0.75798367,\n",
              "        -0.01614761, -0.38503402],\n",
              "       [-0.93798972,  0.68051405, -0.94820146, ..., -0.60687023,\n",
              "         0.09669004, -0.38615797],\n",
              "       [ 0.574121  , -1.03333557,  0.51394098, ..., -0.02371948,\n",
              "        -0.20050207, -0.75144254],\n",
              "       ...,\n",
              "       [-1.32422924, -0.20048168, -1.31754581, ..., -0.97974953,\n",
              "        -0.71542314, -0.11978123],\n",
              "       [-1.24380987, -0.2245526 , -1.28007609, ..., -1.75401433,\n",
              "        -1.58157125, -1.00601779],\n",
              "       [-0.73694129,  1.14989702, -0.71226578, ..., -0.27460457,\n",
              "        -1.25895095,  0.21515662]])"
            ]
          },
          "metadata": {
            "tags": []
          },
          "execution_count": 81
        }
      ]
    },
    {
      "cell_type": "code",
      "metadata": {
        "id": "XaRwPhjbM-8p",
        "colab_type": "code",
        "colab": {
          "base_uri": "https://localhost:8080/",
          "height": 254
        },
        "outputId": "d2621d9b-e918-41b6-ac8c-99b4d302c24c"
      },
      "source": [
        "X_test"
      ],
      "execution_count": null,
      "outputs": [
        {
          "output_type": "execute_result",
          "data": {
            "text/plain": [
              "array([[-0.20175604,  0.3290786 , -0.13086754, ...,  1.3893291 ,\n",
              "         1.08203284,  1.54029664],\n",
              "       [-0.25555773,  1.46763319, -0.31780437, ..., -0.83369364,\n",
              "        -0.73131577, -0.87732522],\n",
              "       [-0.02619262, -0.8407682 , -0.09175081, ..., -0.49483785,\n",
              "        -1.22080864, -0.92115937],\n",
              "       ...,\n",
              "       [ 1.71811488,  0.09318356,  1.7286186 , ...,  1.57630515,\n",
              "         0.20317063, -0.15406178],\n",
              "       [ 1.18859296,  0.34352115,  1.19333694, ...,  0.56019755,\n",
              "         0.26991966, -0.27320074],\n",
              "       [ 0.26263752, -0.58080224,  0.28459338, ..., -0.19383705,\n",
              "        -1.15564888,  0.11231497]])"
            ]
          },
          "metadata": {
            "tags": []
          },
          "execution_count": 82
        }
      ]
    },
    {
      "cell_type": "code",
      "metadata": {
        "id": "eEoiR9WrNBSx",
        "colab_type": "code",
        "colab": {}
      },
      "source": [
        "###Install Keras"
      ],
      "execution_count": null,
      "outputs": []
    },
    {
      "cell_type": "code",
      "metadata": {
        "id": "sgRIY9ZdNKAB",
        "colab_type": "code",
        "colab": {}
      },
      "source": [
        "#!pip install keras"
      ],
      "execution_count": null,
      "outputs": []
    },
    {
      "cell_type": "code",
      "metadata": {
        "id": "C-iCey-FNSOA",
        "colab_type": "code",
        "colab": {}
      },
      "source": [
        "import keras\n",
        "from keras.models import Sequential\n",
        "from keras.layers import Dense"
      ],
      "execution_count": null,
      "outputs": []
    },
    {
      "cell_type": "code",
      "metadata": {
        "id": "tzVUp7emNmuo",
        "colab_type": "code",
        "colab": {}
      },
      "source": [
        "#adding the input and first hidden layer\n",
        "\n",
        "classifier = Sequential()\n",
        "classifier.add(Dense(kernel_initializer = 'uniform', activation = 'relu',input_dim = 30,units = 16   ))  #output_dim(units) = input /output\n",
        "\n",
        "#adding the second hidden layer\n",
        "classifier.add(Dense(kernel_initializer = 'uniform', activation = 'relu',units = 16   ))\n",
        "\n",
        "\n",
        "#adding the output layer\n",
        "classifier.add(Dense(kernel_initializer = 'uniform', activation = 'relu',units = 1   ))\n"
      ],
      "execution_count": null,
      "outputs": []
    },
    {
      "cell_type": "code",
      "metadata": {
        "id": "9ni5EjG7Pnfv",
        "colab_type": "code",
        "colab": {}
      },
      "source": [
        "classifier.compile(optimizer=\"Adam\",loss=\"binary_crossentropy\",metrics=['accuracy'])"
      ],
      "execution_count": null,
      "outputs": []
    },
    {
      "cell_type": "code",
      "metadata": {
        "id": "rFgwi7y4T5xm",
        "colab_type": "code",
        "colab": {
          "base_uri": "https://localhost:8080/",
          "height": 1000
        },
        "outputId": "fa501ca1-9af6-4449-e702-be02bbb9a3f6"
      },
      "source": [
        "classifier.fit(X_train,y_train,batch_size=100,epochs=150)"
      ],
      "execution_count": null,
      "outputs": [
        {
          "output_type": "stream",
          "text": [
            "Epoch 1/150\n",
            "5/5 [==============================] - 0s 2ms/step - loss: 2.2481 - accuracy: 0.6374\n",
            "Epoch 2/150\n",
            "5/5 [==============================] - 0s 2ms/step - loss: 1.6768 - accuracy: 0.6374\n",
            "Epoch 3/150\n",
            "5/5 [==============================] - 0s 1ms/step - loss: 1.4905 - accuracy: 0.6374\n",
            "Epoch 4/150\n",
            "5/5 [==============================] - 0s 2ms/step - loss: 1.3640 - accuracy: 0.6374\n",
            "Epoch 5/150\n",
            "5/5 [==============================] - 0s 2ms/step - loss: 1.2476 - accuracy: 0.6374\n",
            "Epoch 6/150\n",
            "5/5 [==============================] - 0s 2ms/step - loss: 1.1463 - accuracy: 0.6374\n",
            "Epoch 7/150\n",
            "5/5 [==============================] - 0s 1ms/step - loss: 1.0525 - accuracy: 0.6374\n",
            "Epoch 8/150\n",
            "5/5 [==============================] - 0s 1ms/step - loss: 0.9667 - accuracy: 0.6374\n",
            "Epoch 9/150\n",
            "5/5 [==============================] - 0s 2ms/step - loss: 0.8856 - accuracy: 0.6374\n",
            "Epoch 10/150\n",
            "5/5 [==============================] - 0s 2ms/step - loss: 0.8097 - accuracy: 0.6374\n",
            "Epoch 11/150\n",
            "5/5 [==============================] - 0s 2ms/step - loss: 0.7438 - accuracy: 0.6396\n",
            "Epoch 12/150\n",
            "5/5 [==============================] - 0s 2ms/step - loss: 0.6782 - accuracy: 0.6418\n",
            "Epoch 13/150\n",
            "5/5 [==============================] - 0s 3ms/step - loss: 0.6167 - accuracy: 0.6505\n",
            "Epoch 14/150\n",
            "5/5 [==============================] - 0s 2ms/step - loss: 0.5602 - accuracy: 0.6659\n",
            "Epoch 15/150\n",
            "5/5 [==============================] - 0s 1ms/step - loss: 0.5075 - accuracy: 0.6879\n",
            "Epoch 16/150\n",
            "5/5 [==============================] - 0s 2ms/step - loss: 0.4557 - accuracy: 0.7231\n",
            "Epoch 17/150\n",
            "5/5 [==============================] - 0s 2ms/step - loss: 0.4080 - accuracy: 0.7626\n",
            "Epoch 18/150\n",
            "5/5 [==============================] - 0s 1ms/step - loss: 0.3636 - accuracy: 0.8044\n",
            "Epoch 19/150\n",
            "5/5 [==============================] - 0s 2ms/step - loss: 0.3225 - accuracy: 0.8396\n",
            "Epoch 20/150\n",
            "5/5 [==============================] - 0s 1ms/step - loss: 0.2869 - accuracy: 0.8571\n",
            "Epoch 21/150\n",
            "5/5 [==============================] - 0s 2ms/step - loss: 0.2569 - accuracy: 0.8835\n",
            "Epoch 22/150\n",
            "5/5 [==============================] - 0s 1ms/step - loss: 0.2306 - accuracy: 0.8967\n",
            "Epoch 23/150\n",
            "5/5 [==============================] - 0s 1ms/step - loss: 0.2083 - accuracy: 0.9033\n",
            "Epoch 24/150\n",
            "5/5 [==============================] - 0s 2ms/step - loss: 0.1911 - accuracy: 0.9121\n",
            "Epoch 25/150\n",
            "5/5 [==============================] - 0s 2ms/step - loss: 0.1764 - accuracy: 0.9165\n",
            "Epoch 26/150\n",
            "5/5 [==============================] - 0s 2ms/step - loss: 0.1637 - accuracy: 0.9275\n",
            "Epoch 27/150\n",
            "5/5 [==============================] - 0s 1ms/step - loss: 0.1544 - accuracy: 0.9341\n",
            "Epoch 28/150\n",
            "5/5 [==============================] - 0s 2ms/step - loss: 0.1451 - accuracy: 0.9363\n",
            "Epoch 29/150\n",
            "5/5 [==============================] - 0s 1ms/step - loss: 0.1383 - accuracy: 0.9407\n",
            "Epoch 30/150\n",
            "5/5 [==============================] - 0s 2ms/step - loss: 0.1309 - accuracy: 0.9429\n",
            "Epoch 31/150\n",
            "5/5 [==============================] - 0s 2ms/step - loss: 0.1249 - accuracy: 0.9451\n",
            "Epoch 32/150\n",
            "5/5 [==============================] - 0s 2ms/step - loss: 0.1196 - accuracy: 0.9473\n",
            "Epoch 33/150\n",
            "5/5 [==============================] - 0s 2ms/step - loss: 0.1146 - accuracy: 0.9495\n",
            "Epoch 34/150\n",
            "5/5 [==============================] - 0s 2ms/step - loss: 0.1104 - accuracy: 0.9495\n",
            "Epoch 35/150\n",
            "5/5 [==============================] - 0s 2ms/step - loss: 0.1064 - accuracy: 0.9538\n",
            "Epoch 36/150\n",
            "5/5 [==============================] - 0s 2ms/step - loss: 0.1029 - accuracy: 0.9538\n",
            "Epoch 37/150\n",
            "5/5 [==============================] - 0s 3ms/step - loss: 0.0998 - accuracy: 0.9648\n",
            "Epoch 38/150\n",
            "5/5 [==============================] - 0s 1ms/step - loss: 0.0969 - accuracy: 0.9692\n",
            "Epoch 39/150\n",
            "5/5 [==============================] - 0s 2ms/step - loss: 0.0942 - accuracy: 0.9692\n",
            "Epoch 40/150\n",
            "5/5 [==============================] - 0s 1ms/step - loss: 0.0916 - accuracy: 0.9692\n",
            "Epoch 41/150\n",
            "5/5 [==============================] - 0s 2ms/step - loss: 0.0894 - accuracy: 0.9714\n",
            "Epoch 42/150\n",
            "5/5 [==============================] - 0s 2ms/step - loss: 0.0872 - accuracy: 0.9714\n",
            "Epoch 43/150\n",
            "5/5 [==============================] - 0s 2ms/step - loss: 0.0853 - accuracy: 0.9692\n",
            "Epoch 44/150\n",
            "5/5 [==============================] - 0s 2ms/step - loss: 0.0835 - accuracy: 0.9692\n",
            "Epoch 45/150\n",
            "5/5 [==============================] - 0s 1ms/step - loss: 0.0819 - accuracy: 0.9692\n",
            "Epoch 46/150\n",
            "5/5 [==============================] - 0s 2ms/step - loss: 0.0800 - accuracy: 0.9692\n",
            "Epoch 47/150\n",
            "5/5 [==============================] - 0s 2ms/step - loss: 0.0786 - accuracy: 0.9714\n",
            "Epoch 48/150\n",
            "5/5 [==============================] - 0s 2ms/step - loss: 0.0770 - accuracy: 0.9714\n",
            "Epoch 49/150\n",
            "5/5 [==============================] - 0s 2ms/step - loss: 0.0756 - accuracy: 0.9714\n",
            "Epoch 50/150\n",
            "5/5 [==============================] - 0s 2ms/step - loss: 0.0741 - accuracy: 0.9714\n",
            "Epoch 51/150\n",
            "5/5 [==============================] - 0s 1ms/step - loss: 0.0732 - accuracy: 0.9714\n",
            "Epoch 52/150\n",
            "5/5 [==============================] - 0s 2ms/step - loss: 0.0721 - accuracy: 0.9736\n",
            "Epoch 53/150\n",
            "5/5 [==============================] - 0s 2ms/step - loss: 0.0711 - accuracy: 0.9736\n",
            "Epoch 54/150\n",
            "5/5 [==============================] - 0s 2ms/step - loss: 0.0703 - accuracy: 0.9736\n",
            "Epoch 55/150\n",
            "5/5 [==============================] - 0s 2ms/step - loss: 0.0694 - accuracy: 0.9758\n",
            "Epoch 56/150\n",
            "5/5 [==============================] - 0s 1ms/step - loss: 0.0686 - accuracy: 0.9802\n",
            "Epoch 57/150\n",
            "5/5 [==============================] - 0s 1ms/step - loss: 0.0680 - accuracy: 0.9824\n",
            "Epoch 58/150\n",
            "5/5 [==============================] - 0s 1ms/step - loss: 0.0672 - accuracy: 0.9824\n",
            "Epoch 59/150\n",
            "5/5 [==============================] - 0s 2ms/step - loss: 0.0665 - accuracy: 0.9824\n",
            "Epoch 60/150\n",
            "5/5 [==============================] - 0s 2ms/step - loss: 0.0659 - accuracy: 0.9824\n",
            "Epoch 61/150\n",
            "5/5 [==============================] - 0s 2ms/step - loss: 0.0652 - accuracy: 0.9824\n",
            "Epoch 62/150\n",
            "5/5 [==============================] - 0s 2ms/step - loss: 0.0646 - accuracy: 0.9824\n",
            "Epoch 63/150\n",
            "5/5 [==============================] - 0s 2ms/step - loss: 0.0641 - accuracy: 0.9824\n",
            "Epoch 64/150\n",
            "5/5 [==============================] - 0s 2ms/step - loss: 0.0635 - accuracy: 0.9824\n",
            "Epoch 65/150\n",
            "5/5 [==============================] - 0s 2ms/step - loss: 0.0629 - accuracy: 0.9824\n",
            "Epoch 66/150\n",
            "5/5 [==============================] - 0s 2ms/step - loss: 0.0623 - accuracy: 0.9824\n",
            "Epoch 67/150\n",
            "5/5 [==============================] - 0s 3ms/step - loss: 0.0618 - accuracy: 0.9824\n",
            "Epoch 68/150\n",
            "5/5 [==============================] - 0s 2ms/step - loss: 0.0611 - accuracy: 0.9868\n",
            "Epoch 69/150\n",
            "5/5 [==============================] - 0s 2ms/step - loss: 0.0607 - accuracy: 0.9868\n",
            "Epoch 70/150\n",
            "5/5 [==============================] - 0s 2ms/step - loss: 0.0601 - accuracy: 0.9868\n",
            "Epoch 71/150\n",
            "5/5 [==============================] - 0s 2ms/step - loss: 0.0596 - accuracy: 0.9868\n",
            "Epoch 72/150\n",
            "5/5 [==============================] - 0s 2ms/step - loss: 0.0590 - accuracy: 0.9868\n",
            "Epoch 73/150\n",
            "5/5 [==============================] - 0s 2ms/step - loss: 0.0585 - accuracy: 0.9868\n",
            "Epoch 74/150\n",
            "5/5 [==============================] - 0s 2ms/step - loss: 0.0579 - accuracy: 0.9868\n",
            "Epoch 75/150\n",
            "5/5 [==============================] - 0s 2ms/step - loss: 0.0573 - accuracy: 0.9868\n",
            "Epoch 76/150\n",
            "5/5 [==============================] - 0s 2ms/step - loss: 0.0568 - accuracy: 0.9868\n",
            "Epoch 77/150\n",
            "5/5 [==============================] - 0s 2ms/step - loss: 0.0562 - accuracy: 0.9890\n",
            "Epoch 78/150\n",
            "5/5 [==============================] - 0s 2ms/step - loss: 0.0556 - accuracy: 0.9890\n",
            "Epoch 79/150\n",
            "5/5 [==============================] - 0s 2ms/step - loss: 0.0550 - accuracy: 0.9890\n",
            "Epoch 80/150\n",
            "5/5 [==============================] - 0s 1ms/step - loss: 0.0543 - accuracy: 0.9890\n",
            "Epoch 81/150\n",
            "5/5 [==============================] - 0s 1ms/step - loss: 0.0536 - accuracy: 0.9890\n",
            "Epoch 82/150\n",
            "5/5 [==============================] - 0s 1ms/step - loss: 0.0529 - accuracy: 0.9890\n",
            "Epoch 83/150\n",
            "5/5 [==============================] - 0s 2ms/step - loss: 0.0522 - accuracy: 0.9890\n",
            "Epoch 84/150\n",
            "5/5 [==============================] - 0s 2ms/step - loss: 0.0515 - accuracy: 0.9890\n",
            "Epoch 85/150\n",
            "5/5 [==============================] - 0s 2ms/step - loss: 0.0507 - accuracy: 0.9890\n",
            "Epoch 86/150\n",
            "5/5 [==============================] - 0s 2ms/step - loss: 0.0501 - accuracy: 0.9890\n",
            "Epoch 87/150\n",
            "5/5 [==============================] - 0s 2ms/step - loss: 0.0495 - accuracy: 0.9890\n",
            "Epoch 88/150\n",
            "5/5 [==============================] - 0s 3ms/step - loss: 0.0490 - accuracy: 0.9890\n",
            "Epoch 89/150\n",
            "5/5 [==============================] - 0s 2ms/step - loss: 0.0485 - accuracy: 0.9890\n",
            "Epoch 90/150\n",
            "5/5 [==============================] - 0s 2ms/step - loss: 0.0481 - accuracy: 0.9868\n",
            "Epoch 91/150\n",
            "5/5 [==============================] - 0s 1ms/step - loss: 0.0476 - accuracy: 0.9868\n",
            "Epoch 92/150\n",
            "5/5 [==============================] - 0s 2ms/step - loss: 0.0473 - accuracy: 0.9868\n",
            "Epoch 93/150\n",
            "5/5 [==============================] - 0s 1ms/step - loss: 0.0469 - accuracy: 0.9868\n",
            "Epoch 94/150\n",
            "5/5 [==============================] - 0s 1ms/step - loss: 0.0465 - accuracy: 0.9890\n",
            "Epoch 95/150\n",
            "5/5 [==============================] - 0s 2ms/step - loss: 0.0461 - accuracy: 0.9868\n",
            "Epoch 96/150\n",
            "5/5 [==============================] - 0s 2ms/step - loss: 0.0457 - accuracy: 0.9868\n",
            "Epoch 97/150\n",
            "5/5 [==============================] - 0s 2ms/step - loss: 0.0454 - accuracy: 0.9890\n",
            "Epoch 98/150\n",
            "5/5 [==============================] - 0s 1ms/step - loss: 0.0450 - accuracy: 0.9868\n",
            "Epoch 99/150\n",
            "5/5 [==============================] - 0s 1ms/step - loss: 0.0447 - accuracy: 0.9868\n",
            "Epoch 100/150\n",
            "5/5 [==============================] - 0s 2ms/step - loss: 0.0444 - accuracy: 0.9868\n",
            "Epoch 101/150\n",
            "5/5 [==============================] - 0s 2ms/step - loss: 0.0439 - accuracy: 0.9868\n",
            "Epoch 102/150\n",
            "5/5 [==============================] - 0s 2ms/step - loss: 0.0437 - accuracy: 0.9868\n",
            "Epoch 103/150\n",
            "5/5 [==============================] - 0s 1ms/step - loss: 0.0434 - accuracy: 0.9846\n",
            "Epoch 104/150\n",
            "5/5 [==============================] - 0s 1ms/step - loss: 0.0431 - accuracy: 0.9846\n",
            "Epoch 105/150\n",
            "5/5 [==============================] - 0s 1ms/step - loss: 0.0428 - accuracy: 0.9846\n",
            "Epoch 106/150\n",
            "5/5 [==============================] - 0s 1ms/step - loss: 0.0425 - accuracy: 0.9846\n",
            "Epoch 107/150\n",
            "5/5 [==============================] - 0s 2ms/step - loss: 0.0421 - accuracy: 0.9868\n",
            "Epoch 108/150\n",
            "5/5 [==============================] - 0s 1ms/step - loss: 0.0418 - accuracy: 0.9868\n",
            "Epoch 109/150\n",
            "5/5 [==============================] - 0s 2ms/step - loss: 0.0415 - accuracy: 0.9868\n",
            "Epoch 110/150\n",
            "5/5 [==============================] - 0s 2ms/step - loss: 0.0413 - accuracy: 0.9868\n",
            "Epoch 111/150\n",
            "5/5 [==============================] - 0s 2ms/step - loss: 0.0410 - accuracy: 0.9868\n",
            "Epoch 112/150\n",
            "5/5 [==============================] - 0s 2ms/step - loss: 0.0407 - accuracy: 0.9868\n",
            "Epoch 113/150\n",
            "5/5 [==============================] - 0s 2ms/step - loss: 0.0404 - accuracy: 0.9868\n",
            "Epoch 114/150\n",
            "5/5 [==============================] - 0s 1ms/step - loss: 0.0402 - accuracy: 0.9868\n",
            "Epoch 115/150\n",
            "5/5 [==============================] - 0s 2ms/step - loss: 0.0400 - accuracy: 0.9868\n",
            "Epoch 116/150\n",
            "5/5 [==============================] - 0s 2ms/step - loss: 0.0397 - accuracy: 0.9868\n",
            "Epoch 117/150\n",
            "5/5 [==============================] - 0s 2ms/step - loss: 0.0393 - accuracy: 0.9868\n",
            "Epoch 118/150\n",
            "5/5 [==============================] - 0s 1ms/step - loss: 0.0391 - accuracy: 0.9868\n",
            "Epoch 119/150\n",
            "5/5 [==============================] - 0s 1ms/step - loss: 0.0388 - accuracy: 0.9868\n",
            "Epoch 120/150\n",
            "5/5 [==============================] - 0s 1ms/step - loss: 0.0386 - accuracy: 0.9868\n",
            "Epoch 121/150\n",
            "5/5 [==============================] - 0s 3ms/step - loss: 0.0383 - accuracy: 0.9868\n",
            "Epoch 122/150\n",
            "5/5 [==============================] - 0s 2ms/step - loss: 0.0380 - accuracy: 0.9868\n",
            "Epoch 123/150\n",
            "5/5 [==============================] - 0s 2ms/step - loss: 0.0378 - accuracy: 0.9868\n",
            "Epoch 124/150\n",
            "5/5 [==============================] - 0s 2ms/step - loss: 0.0375 - accuracy: 0.9868\n",
            "Epoch 125/150\n",
            "5/5 [==============================] - 0s 2ms/step - loss: 0.0373 - accuracy: 0.9868\n",
            "Epoch 126/150\n",
            "5/5 [==============================] - 0s 2ms/step - loss: 0.0370 - accuracy: 0.9868\n",
            "Epoch 127/150\n",
            "5/5 [==============================] - 0s 2ms/step - loss: 0.0367 - accuracy: 0.9868\n",
            "Epoch 128/150\n",
            "5/5 [==============================] - 0s 1ms/step - loss: 0.0365 - accuracy: 0.9868\n",
            "Epoch 129/150\n",
            "5/5 [==============================] - 0s 1ms/step - loss: 0.0363 - accuracy: 0.9868\n",
            "Epoch 130/150\n",
            "5/5 [==============================] - 0s 2ms/step - loss: 0.0362 - accuracy: 0.9868\n",
            "Epoch 131/150\n",
            "5/5 [==============================] - 0s 2ms/step - loss: 0.0360 - accuracy: 0.9868\n",
            "Epoch 132/150\n",
            "5/5 [==============================] - 0s 1ms/step - loss: 0.0357 - accuracy: 0.9868\n",
            "Epoch 133/150\n",
            "5/5 [==============================] - 0s 2ms/step - loss: 0.0356 - accuracy: 0.9868\n",
            "Epoch 134/150\n",
            "5/5 [==============================] - 0s 1ms/step - loss: 0.0353 - accuracy: 0.9868\n",
            "Epoch 135/150\n",
            "5/5 [==============================] - 0s 2ms/step - loss: 0.0351 - accuracy: 0.9868\n",
            "Epoch 136/150\n",
            "5/5 [==============================] - 0s 1ms/step - loss: 0.0349 - accuracy: 0.9868\n",
            "Epoch 137/150\n",
            "5/5 [==============================] - 0s 2ms/step - loss: 0.0347 - accuracy: 0.9868\n",
            "Epoch 138/150\n",
            "5/5 [==============================] - 0s 2ms/step - loss: 0.0345 - accuracy: 0.9868\n",
            "Epoch 139/150\n",
            "5/5 [==============================] - 0s 2ms/step - loss: 0.0343 - accuracy: 0.9868\n",
            "Epoch 140/150\n",
            "5/5 [==============================] - 0s 2ms/step - loss: 0.0341 - accuracy: 0.9868\n",
            "Epoch 141/150\n",
            "5/5 [==============================] - 0s 2ms/step - loss: 0.0339 - accuracy: 0.9868\n",
            "Epoch 142/150\n",
            "5/5 [==============================] - 0s 2ms/step - loss: 0.0337 - accuracy: 0.9868\n",
            "Epoch 143/150\n",
            "5/5 [==============================] - 0s 1ms/step - loss: 0.0335 - accuracy: 0.9868\n",
            "Epoch 144/150\n",
            "5/5 [==============================] - 0s 2ms/step - loss: 0.0334 - accuracy: 0.9868\n",
            "Epoch 145/150\n",
            "5/5 [==============================] - 0s 1ms/step - loss: 0.0332 - accuracy: 0.9868\n",
            "Epoch 146/150\n",
            "5/5 [==============================] - 0s 2ms/step - loss: 0.0330 - accuracy: 0.9868\n",
            "Epoch 147/150\n",
            "5/5 [==============================] - 0s 1ms/step - loss: 0.0329 - accuracy: 0.9868\n",
            "Epoch 148/150\n",
            "5/5 [==============================] - 0s 2ms/step - loss: 0.0327 - accuracy: 0.9868\n",
            "Epoch 149/150\n",
            "5/5 [==============================] - 0s 1ms/step - loss: 0.0326 - accuracy: 0.9868\n",
            "Epoch 150/150\n",
            "5/5 [==============================] - 0s 1ms/step - loss: 0.0323 - accuracy: 0.9868\n"
          ],
          "name": "stdout"
        },
        {
          "output_type": "execute_result",
          "data": {
            "text/plain": [
              "<tensorflow.python.keras.callbacks.History at 0x7fd23860f780>"
            ]
          },
          "metadata": {
            "tags": []
          },
          "execution_count": 88
        }
      ]
    },
    {
      "cell_type": "code",
      "metadata": {
        "id": "1MGNyt43UR1M",
        "colab_type": "code",
        "colab": {
          "base_uri": "https://localhost:8080/",
          "height": 254
        },
        "outputId": "b46b2882-7e33-412a-e901-6bdc458f2bb6"
      },
      "source": [
        "X_test"
      ],
      "execution_count": null,
      "outputs": [
        {
          "output_type": "execute_result",
          "data": {
            "text/plain": [
              "array([[-0.20175604,  0.3290786 , -0.13086754, ...,  1.3893291 ,\n",
              "         1.08203284,  1.54029664],\n",
              "       [-0.25555773,  1.46763319, -0.31780437, ..., -0.83369364,\n",
              "        -0.73131577, -0.87732522],\n",
              "       [-0.02619262, -0.8407682 , -0.09175081, ..., -0.49483785,\n",
              "        -1.22080864, -0.92115937],\n",
              "       ...,\n",
              "       [ 1.71811488,  0.09318356,  1.7286186 , ...,  1.57630515,\n",
              "         0.20317063, -0.15406178],\n",
              "       [ 1.18859296,  0.34352115,  1.19333694, ...,  0.56019755,\n",
              "         0.26991966, -0.27320074],\n",
              "       [ 0.26263752, -0.58080224,  0.28459338, ..., -0.19383705,\n",
              "        -1.15564888,  0.11231497]])"
            ]
          },
          "metadata": {
            "tags": []
          },
          "execution_count": 89
        }
      ]
    },
    {
      "cell_type": "code",
      "metadata": {
        "id": "fQ6u_xN3XS1v",
        "colab_type": "code",
        "colab": {}
      },
      "source": [
        "#predicting the test set results\n",
        "\n",
        "y_pred = classifier.predict(X_test)\n",
        "y_pred = (y_pred > 0.5)"
      ],
      "execution_count": null,
      "outputs": []
    },
    {
      "cell_type": "code",
      "metadata": {
        "id": "FpnoU3qOX-qz",
        "colab_type": "code",
        "colab": {}
      },
      "source": [
        "#making confusion Matrix\n",
        "from sklearn.metrics import confusion_matrix\n",
        "cm = confusion_matrix(y_test,y_pred)"
      ],
      "execution_count": null,
      "outputs": []
    },
    {
      "cell_type": "code",
      "metadata": {
        "id": "lefF1IplYZEa",
        "colab_type": "code",
        "colab": {
          "base_uri": "https://localhost:8080/",
          "height": 54
        },
        "outputId": "063eb047-cd77-48b9-cc99-090dbc89cb96"
      },
      "source": [
        "cm"
      ],
      "execution_count": null,
      "outputs": [
        {
          "output_type": "execute_result",
          "data": {
            "text/plain": [
              "array([[66,  1],\n",
              "       [ 2, 45]])"
            ]
          },
          "metadata": {
            "tags": []
          },
          "execution_count": 92
        }
      ]
    },
    {
      "cell_type": "code",
      "metadata": {
        "id": "hNHU8LshYgN6",
        "colab_type": "code",
        "colab": {
          "base_uri": "https://localhost:8080/",
          "height": 265
        },
        "outputId": "963d2fff-2fd5-45cd-b550-971f6ca230a7"
      },
      "source": [
        "sns.heatmap(cm,annot=True)\n",
        "plt.savefig(\"h.png\")"
      ],
      "execution_count": null,
      "outputs": [
        {
          "output_type": "display_data",
          "data": {
            "image/png": "[encoded data removed]",
            "text/plain": [
              "<Figure size 432x288 with 2 Axes>"
            ]
          },
          "metadata": {
            "tags": [],
            "needs_background": "light"
          }
        }
      ]
    },
    {
      "cell_type": "code",
      "metadata": {
        "id": "gCyD8GLWYoKr",
        "colab_type": "code",
        "colab": {}
      },
      "source": [
        "from sklearn.metrics import accuracy_score\n",
        "acc = accuracy_score(y_test, y_pred)"
      ],
      "execution_count": null,
      "outputs": []
    },
    {
      "cell_type": "code",
      "metadata": {
        "id": "ShMCIPMYZpFs",
        "colab_type": "code",
        "colab": {
          "base_uri": "https://localhost:8080/",
          "height": 35
        },
        "outputId": "6469a8df-e233-4201-f501-9127bc18f353"
      },
      "source": [
        "print(\"accuracy is :\", acc)"
      ],
      "execution_count": null,
      "outputs": [
        {
          "output_type": "stream",
          "text": [
            "accuracy is : 0.9736842105263158\n"
          ],
          "name": "stdout"
        }
      ]
    },
    {
      "cell_type": "code",
      "metadata": {
        "id": "VR9WaR2PbCez",
        "colab_type": "code",
        "colab": {}
      },
      "source": [
        ""
      ],
      "execution_count": null,
      "outputs": []
    }
  ]
}